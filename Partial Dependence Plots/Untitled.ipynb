{
 "cells": [
  {
   "cell_type": "code",
   "execution_count": null,
   "id": "2ab6855b-b574-48aa-8b19-7e960c443e1f",
   "metadata": {},
   "outputs": [],
   "source": []
  }
 ],
 "metadata": {
  "kernelspec": {
   "display_name": "",
   "name": ""
  },
  "language_info": {
   "name": ""
  }
 },
 "nbformat": 4,
 "nbformat_minor": 5
}
