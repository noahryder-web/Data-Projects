{
 "cells": [
  {
   "cell_type": "code",
   "execution_count": null,
   "id": "69e58654-305a-4815-b7b0-eea9f2f035f9",
   "metadata": {},
   "outputs": [],
   "source": []
  }
 ],
 "metadata": {
  "kernelspec": {
   "display_name": "",
   "name": ""
  },
  "language_info": {
   "name": ""
  }
 },
 "nbformat": 4,
 "nbformat_minor": 5
}
